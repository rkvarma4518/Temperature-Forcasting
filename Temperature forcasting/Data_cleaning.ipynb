{
 "cells": [
  {
   "cell_type": "code",
   "execution_count": 1,
   "metadata": {},
   "outputs": [],
   "source": [
    "import pandas as pd\n",
    "import matplotlib.pyplot as plt"
   ]
  },
  {
   "cell_type": "code",
   "execution_count": 2,
   "metadata": {},
   "outputs": [],
   "source": [
    "df = pd.read_excel(\"Dataset.xlsx\")"
   ]
  },
  {
   "cell_type": "code",
   "execution_count": 3,
   "metadata": {},
   "outputs": [
    {
     "name": "stdout",
     "output_type": "stream",
     "text": [
      "   Date  high_1  high_2  high_3  high_Output  low_1  low_2  low_3  low_Output\n",
      "0     1    32.0    32.0    32.0         31.0   10.0   11.0   10.0        10.0\n",
      "1     2    32.0    32.0    31.0         31.0   11.0   10.0   10.0        11.0\n",
      "2     3    32.0    31.0    31.0         30.0   10.0   10.0   11.0        11.0\n",
      "3     4    31.0    31.0    30.0         30.0   10.0   11.0   11.0        14.0\n",
      "4     5    31.0    30.0    30.0         31.0   11.0   11.0   14.0        12.0\n",
      "Date             int64\n",
      "high_1         float64\n",
      "high_2         float64\n",
      "high_3         float64\n",
      "high_Output    float64\n",
      "low_1          float64\n",
      "low_2          float64\n",
      "low_3          float64\n",
      "low_Output     float64\n",
      "dtype: object\n",
      "(2225, 9)\n"
     ]
    }
   ],
   "source": [
    "print(df.head())\n",
    "print(df.dtypes)\n",
    "print(df.shape)"
   ]
  },
  {
   "cell_type": "code",
   "execution_count": 4,
   "metadata": {},
   "outputs": [
    {
     "name": "stdout",
     "output_type": "stream",
     "text": [
      "              Date       high_1       high_2       high_3  high_Output  \\\n",
      "count  2225.000000  2222.000000  2222.000000  2222.000000  2222.000000   \n",
      "mean     16.037303    32.105311    32.108461    32.111611    32.115212   \n",
      "std       8.604936     3.996360     3.999035     4.001706     4.005203   \n",
      "min       1.000000    20.000000    20.000000    20.000000    20.000000   \n",
      "25%       9.000000    29.000000    29.000000    29.000000    29.000000   \n",
      "50%      16.000000    31.000000    31.000000    31.000000    31.000000   \n",
      "75%      23.000000    35.000000    35.000000    35.000000    35.000000   \n",
      "max      31.000000    43.000000    43.000000    43.000000    43.000000   \n",
      "\n",
      "             low_1        low_2        low_3   low_Output  \n",
      "count  2222.000000  2222.000000  2222.000000  2222.000000  \n",
      "mean     18.415842    18.418542    18.420342    18.423042  \n",
      "std       4.440500     4.437203     4.435003     4.431699  \n",
      "min       5.000000     5.000000     5.000000     5.000000  \n",
      "25%      15.000000    15.000000    15.000000    15.000000  \n",
      "50%      20.000000    20.000000    20.000000    20.000000  \n",
      "75%      22.000000    22.000000    22.000000    22.000000  \n",
      "max      26.000000    26.000000    26.000000    26.000000  \n"
     ]
    }
   ],
   "source": [
    "print(df.describe())"
   ]
  },
  {
   "cell_type": "code",
   "execution_count": 5,
   "metadata": {},
   "outputs": [
    {
     "name": "stdout",
     "output_type": "stream",
     "text": [
      "Date           0\n",
      "high_1         3\n",
      "high_2         3\n",
      "high_3         3\n",
      "high_Output    3\n",
      "low_1          3\n",
      "low_2          3\n",
      "low_3          3\n",
      "low_Output     3\n",
      "dtype: int64\n"
     ]
    }
   ],
   "source": [
    "print(df.isnull().sum())"
   ]
  },
  {
   "cell_type": "code",
   "execution_count": 6,
   "metadata": {},
   "outputs": [],
   "source": [
    "df = df.dropna()"
   ]
  },
  {
   "cell_type": "code",
   "execution_count": 7,
   "metadata": {},
   "outputs": [
    {
     "data": {
      "text/plain": [
       "Date           0\n",
       "high_1         0\n",
       "high_2         0\n",
       "high_3         0\n",
       "high_Output    0\n",
       "low_1          0\n",
       "low_2          0\n",
       "low_3          0\n",
       "low_Output     0\n",
       "dtype: int64"
      ]
     },
     "execution_count": 7,
     "metadata": {},
     "output_type": "execute_result"
    }
   ],
   "source": [
    "df.isnull().sum()"
   ]
  },
  {
   "cell_type": "code",
   "execution_count": 17,
   "metadata": {},
   "outputs": [],
   "source": [
    "df.to_csv('Train.csv')"
   ]
  },
  {
   "cell_type": "code",
   "execution_count": null,
   "metadata": {},
   "outputs": [],
   "source": []
  }
 ],
 "metadata": {
  "kernelspec": {
   "display_name": "Python 3",
   "language": "python",
   "name": "python3"
  },
  "language_info": {
   "codemirror_mode": {
    "name": "ipython",
    "version": 3
   },
   "file_extension": ".py",
   "mimetype": "text/x-python",
   "name": "python",
   "nbconvert_exporter": "python",
   "pygments_lexer": "ipython3",
   "version": "3.7.6"
  }
 },
 "nbformat": 4,
 "nbformat_minor": 4
}
